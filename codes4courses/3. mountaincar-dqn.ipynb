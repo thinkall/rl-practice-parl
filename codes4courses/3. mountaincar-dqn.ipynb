{
 "cells": [
  {
   "cell_type": "markdown",
   "metadata": {
    "collapsed": false
   },
   "source": [
    "# Step1 安装依赖"
   ]
  },
  {
   "cell_type": "code",
   "execution_count": null,
   "metadata": {
    "collapsed": false
   },
   "outputs": [
    {
     "name": "stdout",
     "output_type": "stream",
     "text": [
      "Uninstalling parl-1.1.2:\n",
      "  Successfully uninstalled parl-1.1.2\n",
      "Uninstalling pandas-0.23.4:\n",
      "  Successfully uninstalled pandas-0.23.4\n",
      "Uninstalling scikit-learn-0.20.0:\n",
      "  Successfully uninstalled scikit-learn-0.20.0\n",
      "Uninstalling paddlepaddle-1.7.1:\n",
      "  Successfully uninstalled paddlepaddle-1.7.1\n",
      "Looking in indexes: https://pypi.mirrors.ustc.edu.cn/simple/\n",
      "Requirement already satisfied: gym in /opt/conda/envs/python35-paddle120-env/lib/python3.7/site-packages (0.12.1)\n",
      "Requirement already satisfied: numpy>=1.10.4 in /opt/conda/envs/python35-paddle120-env/lib/python3.7/site-packages (from gym) (1.16.4)\n",
      "Requirement already satisfied: scipy in /opt/conda/envs/python35-paddle120-env/lib/python3.7/site-packages (from gym) (1.3.0)\n",
      "Requirement already satisfied: six in /opt/conda/envs/python35-paddle120-env/lib/python3.7/site-packages (from gym) (1.12.0)\n",
      "Requirement already satisfied: requests>=2.0 in /opt/conda/envs/python35-paddle120-env/lib/python3.7/site-packages (from gym) (2.22.0)\n",
      "Requirement already satisfied: pyglet>=1.2.0 in /opt/conda/envs/python35-paddle120-env/lib/python3.7/site-packages (from gym) (1.4.5)\n",
      "Requirement already satisfied: idna<2.9,>=2.5 in /opt/conda/envs/python35-paddle120-env/lib/python3.7/site-packages (from requests>=2.0->gym) (2.8)\n",
      "Requirement already satisfied: chardet<3.1.0,>=3.0.2 in /opt/conda/envs/python35-paddle120-env/lib/python3.7/site-packages (from requests>=2.0->gym) (3.0.4)\n",
      "Requirement already satisfied: certifi>=2017.4.17 in /opt/conda/envs/python35-paddle120-env/lib/python3.7/site-packages (from requests>=2.0->gym) (2019.9.11)\n",
      "Requirement already satisfied: urllib3!=1.25.0,!=1.25.1,<1.26,>=1.21.1 in /opt/conda/envs/python35-paddle120-env/lib/python3.7/site-packages (from requests>=2.0->gym) (1.25.6)\n",
      "Requirement already satisfied: future in /opt/conda/envs/python35-paddle120-env/lib/python3.7/site-packages (from pyglet>=1.2.0->gym) (0.18.0)\n",
      "Looking in indexes: https://pypi.mirrors.ustc.edu.cn/simple/\n",
      "Collecting paddlepaddle==1.6.3\n",
      "\u001b[?25l  Downloading https://mirrors.tuna.tsinghua.edu.cn/pypi/web/packages/96/28/e72bebb3c9b3d98eb9b15d9f6d85150f3cbd63e695e59882ff9f04846686/paddlepaddle-1.6.3-cp37-cp37m-manylinux1_x86_64.whl (90.9MB)\n",
      "\u001b[K     |████████████████████████████████| 90.9MB 314kB/s eta 0:00:016\n",
      "\u001b[?25hRequirement already satisfied: nltk; python_version >= \"3.5\" in /opt/conda/envs/python35-paddle120-env/lib/python3.7/site-packages (from paddlepaddle==1.6.3) (3.4.5)\n",
      "Requirement already satisfied: objgraph in /opt/conda/envs/python35-paddle120-env/lib/python3.7/site-packages (from paddlepaddle==1.6.3) (3.4.1)\n",
      "Requirement already satisfied: requests>=2.20.0 in /opt/conda/envs/python35-paddle120-env/lib/python3.7/site-packages (from paddlepaddle==1.6.3) (2.22.0)\n",
      "Requirement already satisfied: Pillow in /opt/conda/envs/python35-paddle120-env/lib/python3.7/site-packages (from paddlepaddle==1.6.3) (6.2.0)\n",
      "Requirement already satisfied: graphviz in /opt/conda/envs/python35-paddle120-env/lib/python3.7/site-packages (from paddlepaddle==1.6.3) (0.13)\n",
      "Requirement already satisfied: funcsigs in /opt/conda/envs/python35-paddle120-env/lib/python3.7/site-packages (from paddlepaddle==1.6.3) (1.0.2)\n",
      "Requirement already satisfied: scipy; python_version >= \"3.5\" in /opt/conda/envs/python35-paddle120-env/lib/python3.7/site-packages (from paddlepaddle==1.6.3) (1.3.0)\n",
      "Requirement already satisfied: protobuf>=3.1.0 in /opt/conda/envs/python35-paddle120-env/lib/python3.7/site-packages (from paddlepaddle==1.6.3) (3.10.0)\n",
      "Requirement already satisfied: rarfile in /opt/conda/envs/python35-paddle120-env/lib/python3.7/site-packages (from paddlepaddle==1.6.3) (3.1)\n",
      "Requirement already satisfied: prettytable in /opt/conda/envs/python35-paddle120-env/lib/python3.7/site-packages (from paddlepaddle==1.6.3) (0.7.2)\n",
      "Requirement already satisfied: numpy>=1.12; python_version >= \"3.5\" in /opt/conda/envs/python35-paddle120-env/lib/python3.7/site-packages (from paddlepaddle==1.6.3) (1.16.4)\n",
      "Requirement already satisfied: matplotlib; python_version >= \"3.6\" in /opt/conda/envs/python35-paddle120-env/lib/python3.7/site-packages (from paddlepaddle==1.6.3) (2.2.3)\n",
      "Requirement already satisfied: six in /opt/conda/envs/python35-paddle120-env/lib/python3.7/site-packages (from paddlepaddle==1.6.3) (1.12.0)\n",
      "Requirement already satisfied: opencv-python in /opt/conda/envs/python35-paddle120-env/lib/python3.7/site-packages (from paddlepaddle==1.6.3) (4.1.1.26)\n",
      "Requirement already satisfied: pyyaml in /opt/conda/envs/python35-paddle120-env/lib/python3.7/site-packages (from paddlepaddle==1.6.3) (5.1.2)\n",
      "Requirement already satisfied: decorator in /opt/conda/envs/python35-paddle120-env/lib/python3.7/site-packages (from paddlepaddle==1.6.3) (4.4.0)\n",
      "Requirement already satisfied: certifi>=2017.4.17 in /opt/conda/envs/python35-paddle120-env/lib/python3.7/site-packages (from requests>=2.20.0->paddlepaddle==1.6.3) (2019.9.11)\n",
      "Requirement already satisfied: idna<2.9,>=2.5 in /opt/conda/envs/python35-paddle120-env/lib/python3.7/site-packages (from requests>=2.20.0->paddlepaddle==1.6.3) (2.8)\n",
      "Requirement already satisfied: urllib3!=1.25.0,!=1.25.1,<1.26,>=1.21.1 in /opt/conda/envs/python35-paddle120-env/lib/python3.7/site-packages (from requests>=2.20.0->paddlepaddle==1.6.3) (1.25.6)\n",
      "Requirement already satisfied: chardet<3.1.0,>=3.0.2 in /opt/conda/envs/python35-paddle120-env/lib/python3.7/site-packages (from requests>=2.20.0->paddlepaddle==1.6.3) (3.0.4)\n",
      "Requirement already satisfied: setuptools in /opt/conda/envs/python35-paddle120-env/lib/python3.7/site-packages (from protobuf>=3.1.0->paddlepaddle==1.6.3) (41.4.0)\n",
      "Requirement already satisfied: pytz in /opt/conda/envs/python35-paddle120-env/lib/python3.7/site-packages (from matplotlib; python_version >= \"3.6\"->paddlepaddle==1.6.3) (2019.3)\n",
      "Requirement already satisfied: kiwisolver>=1.0.1 in /opt/conda/envs/python35-paddle120-env/lib/python3.7/site-packages (from matplotlib; python_version >= \"3.6\"->paddlepaddle==1.6.3) (1.1.0)\n",
      "Requirement already satisfied: python-dateutil>=2.1 in /opt/conda/envs/python35-paddle120-env/lib/python3.7/site-packages (from matplotlib; python_version >= \"3.6\"->paddlepaddle==1.6.3) (2.8.0)\n",
      "Requirement already satisfied: pyparsing!=2.0.4,!=2.1.2,!=2.1.6,>=2.0.1 in /opt/conda/envs/python35-paddle120-env/lib/python3.7/site-packages (from matplotlib; python_version >= \"3.6\"->paddlepaddle==1.6.3) (2.4.2)\n",
      "Requirement already satisfied: cycler>=0.10 in /opt/conda/envs/python35-paddle120-env/lib/python3.7/site-packages (from matplotlib; python_version >= \"3.6\"->paddlepaddle==1.6.3) (0.10.0)\n",
      "Installing collected packages: paddlepaddle\n",
      "Successfully installed paddlepaddle-1.6.3\n",
      "Looking in indexes: https://pypi.mirrors.ustc.edu.cn/simple/\n",
      "Collecting parl==1.3.1\n",
      "\u001b[?25l  Downloading https://mirrors.tuna.tsinghua.edu.cn/pypi/web/packages/62/79/590af38a920792c71afb73fad7583967928b4d0ba9fca76250d935c7fda8/parl-1.3.1-py2.py3-none-any.whl (521kB)\n",
      "\u001b[K     |████████████████████████████████| 522kB 3.2MB/s eta 0:00:01\n",
      "\u001b[?25hRequirement already satisfied: tb-nightly==1.15.0a20190801 in /opt/conda/envs/python35-paddle120-env/lib/python3.7/site-packages (from parl==1.3.1) (1.15.0a20190801)\n",
      "Requirement already satisfied: pyarrow==0.13.0 in /opt/conda/envs/python35-paddle120-env/lib/python3.7/site-packages (from parl==1.3.1) (0.13.0)\n",
      "Collecting flask-cors (from parl==1.3.1)\n",
      "  Downloading https://mirrors.tuna.tsinghua.edu.cn/pypi/web/packages/78/38/e68b11daa5d613e3a91e4bf3da76c94ac9ee0d9cd515af9c1ab80d36f709/Flask_Cors-3.0.8-py2.py3-none-any.whl\n",
      "Requirement already satisfied: pyzmq==18.0.1 in /opt/conda/envs/python35-paddle120-env/lib/python3.7/site-packages (from parl==1.3.1) (18.0.1)\n",
      "Requirement already satisfied: cloudpickle==1.2.1 in /opt/conda/envs/python35-paddle120-env/lib/python3.7/site-packages (from parl==1.3.1) (1.2.1)\n",
      "Collecting psutil>=5.6.2 (from parl==1.3.1)\n",
      "\u001b[?25l  Downloading https://mirrors.tuna.tsinghua.edu.cn/pypi/web/packages/c4/b8/3512f0e93e0db23a71d82485ba256071ebef99b227351f0f5540f744af41/psutil-5.7.0.tar.gz (449kB)\n",
      "\u001b[K     |████████████████████████████████| 450kB 3.9MB/s eta 0:00:01\n",
      "\u001b[?25hRequirement already satisfied: scipy>=1.0.0 in /opt/conda/envs/python35-paddle120-env/lib/python3.7/site-packages (from parl==1.3.1) (1.3.0)\n",
      "Requirement already satisfied: tensorboardX==1.8 in /opt/conda/envs/python35-paddle120-env/lib/python3.7/site-packages (from parl==1.3.1) (1.8)\n",
      "Requirement already satisfied: flask>=1.0.4 in /opt/conda/envs/python35-paddle120-env/lib/python3.7/site-packages (from parl==1.3.1) (1.1.1)\n",
      "Collecting visualdl>=2.0.0b; python_version >= \"3\" and platform_system == \"Linux\" (from parl==1.3.1)\n",
      "\u001b[?25l  Downloading https://mirrors.tuna.tsinghua.edu.cn/pypi/web/packages/1e/1e/d92ce71705b0de5e5fde210fc7369ee9a1aa6a53065a83c968b655885b9a/visualdl-2.0.0b6-py3-none-any.whl (2.9MB)\n",
      "\u001b[K     |████████████████████████████████| 2.9MB 75kB/s eta 0:00:011\n",
      "\u001b[?25hRequirement already satisfied: click in /opt/conda/envs/python35-paddle120-env/lib/python3.7/site-packages (from parl==1.3.1) (7.0)\n",
      "Requirement already satisfied: termcolor>=1.1.0 in /opt/conda/envs/python35-paddle120-env/lib/python3.7/site-packages (from parl==1.3.1) (1.1.0)\n",
      "Requirement already satisfied: grpcio>=1.6.3 in /opt/conda/envs/python35-paddle120-env/lib/python3.7/site-packages (from tb-nightly==1.15.0a20190801->parl==1.3.1) (1.26.0)\n",
      "Requirement already satisfied: six>=1.10.0 in /opt/conda/envs/python35-paddle120-env/lib/python3.7/site-packages (from tb-nightly==1.15.0a20190801->parl==1.3.1) (1.12.0)\n",
      "Requirement already satisfied: absl-py>=0.4 in /opt/conda/envs/python35-paddle120-env/lib/python3.7/site-packages (from tb-nightly==1.15.0a20190801->parl==1.3.1) (0.8.1)\n",
      "Requirement already satisfied: protobuf>=3.6.0 in /opt/conda/envs/python35-paddle120-env/lib/python3.7/site-packages (from tb-nightly==1.15.0a20190801->parl==1.3.1) (3.10.0)\n",
      "Requirement already satisfied: werkzeug>=0.11.15 in /opt/conda/envs/python35-paddle120-env/lib/python3.7/site-packages (from tb-nightly==1.15.0a20190801->parl==1.3.1) (0.16.0)\n",
      "Requirement already satisfied: wheel>=0.26; python_version >= \"3\" in /opt/conda/envs/python35-paddle120-env/lib/python3.7/site-packages (from tb-nightly==1.15.0a20190801->parl==1.3.1) (0.33.6)\n",
      "Requirement already satisfied: numpy>=1.12.0 in /opt/conda/envs/python35-paddle120-env/lib/python3.7/site-packages (from tb-nightly==1.15.0a20190801->parl==1.3.1) (1.16.4)\n",
      "Requirement already satisfied: setuptools>=41.0.0 in /opt/conda/envs/python35-paddle120-env/lib/python3.7/site-packages (from tb-nightly==1.15.0a20190801->parl==1.3.1) (41.4.0)\n",
      "Requirement already satisfied: markdown>=2.6.8 in /opt/conda/envs/python35-paddle120-env/lib/python3.7/site-packages (from tb-nightly==1.15.0a20190801->parl==1.3.1) (3.1.1)\n",
      "Requirement already satisfied: itsdangerous>=0.24 in /opt/conda/envs/python35-paddle120-env/lib/python3.7/site-packages (from flask>=1.0.4->parl==1.3.1) (1.1.0)\n",
      "Requirement already satisfied: Jinja2>=2.10.1 in /opt/conda/envs/python35-paddle120-env/lib/python3.7/site-packages (from flask>=1.0.4->parl==1.3.1) (2.10.3)\n",
      "Requirement already satisfied: opencv-python in /opt/conda/envs/python35-paddle120-env/lib/python3.7/site-packages (from visualdl>=2.0.0b; python_version >= \"3\" and platform_system == \"Linux\"->parl==1.3.1) (4.1.1.26)\n",
      "Collecting hdfs (from visualdl>=2.0.0b; python_version >= \"3\" and platform_system == \"Linux\"->parl==1.3.1)\n",
      "\u001b[?25l  Downloading https://mirrors.tuna.tsinghua.edu.cn/pypi/web/packages/82/39/2c0879b1bcfd1f6ad078eb210d09dbce21072386a3997074ee91e60ddc5a/hdfs-2.5.8.tar.gz (41kB)\n",
      "\u001b[K     |████████████████████████████████| 51kB 7.2MB/s eta 0:00:011\n",
      "\u001b[?25hRequirement already satisfied: flake8>=3.7.9 in /opt/conda/envs/python35-paddle120-env/lib/python3.7/site-packages (from visualdl>=2.0.0b; python_version >= \"3\" and platform_system == \"Linux\"->parl==1.3.1) (3.7.9)\n",
      "Requirement already satisfied: pre-commit in /opt/conda/envs/python35-paddle120-env/lib/python3.7/site-packages (from visualdl>=2.0.0b; python_version >= \"3\" and platform_system == \"Linux\"->parl==1.3.1) (1.21.0)\n",
      "Collecting Pillow>=7.0.0 (from visualdl>=2.0.0b; python_version >= \"3\" and platform_system == \"Linux\"->parl==1.3.1)\n",
      "\u001b[?25l  Downloading https://mirrors.tuna.tsinghua.edu.cn/pypi/web/packages/ab/f8/d3627cc230270a6a4eedee32974fbc8cb26c5fdb8710dd5ea70133640022/Pillow-7.1.2-cp37-cp37m-manylinux1_x86_64.whl (2.1MB)\n",
      "\u001b[K     |████████████████████████████████| 2.1MB 2.6MB/s eta 0:00:01\n",
      "\u001b[?25hRequirement already satisfied: requests in /opt/conda/envs/python35-paddle120-env/lib/python3.7/site-packages (from visualdl>=2.0.0b; python_version >= \"3\" and platform_system == \"Linux\"->parl==1.3.1) (2.22.0)\n",
      "Collecting Flask-Babel>=1.0.0 (from visualdl>=2.0.0b; python_version >= \"3\" and platform_system == \"Linux\"->parl==1.3.1)\n",
      "  Downloading https://mirrors.tuna.tsinghua.edu.cn/pypi/web/packages/76/a4/0115c7c520125853037fc1d6b3da132a526949640e27a699a13e05ec7593/Flask_Babel-1.0.0-py3-none-any.whl\n",
      "Requirement already satisfied: MarkupSafe>=0.23 in /opt/conda/envs/python35-paddle120-env/lib/python3.7/site-packages (from Jinja2>=2.10.1->flask>=1.0.4->parl==1.3.1) (1.1.1)\n",
      "Collecting docopt (from hdfs->visualdl>=2.0.0b; python_version >= \"3\" and platform_system == \"Linux\"->parl==1.3.1)\n",
      "  Downloading https://mirrors.tuna.tsinghua.edu.cn/pypi/web/packages/a2/55/8f8cab2afd404cf578136ef2cc5dfb50baa1761b68c9da1fb1e4eed343c9/docopt-0.6.2.tar.gz\n",
      "Requirement already satisfied: mccabe<0.7.0,>=0.6.0 in /opt/conda/envs/python35-paddle120-env/lib/python3.7/site-packages (from flake8>=3.7.9->visualdl>=2.0.0b; python_version >= \"3\" and platform_system == \"Linux\"->parl==1.3.1) (0.6.1)\n",
      "Requirement already satisfied: pycodestyle<2.6.0,>=2.5.0 in /opt/conda/envs/python35-paddle120-env/lib/python3.7/site-packages (from flake8>=3.7.9->visualdl>=2.0.0b; python_version >= \"3\" and platform_system == \"Linux\"->parl==1.3.1) (2.5.0)\n",
      "Requirement already satisfied: entrypoints<0.4.0,>=0.3.0 in /opt/conda/envs/python35-paddle120-env/lib/python3.7/site-packages (from flake8>=3.7.9->visualdl>=2.0.0b; python_version >= \"3\" and platform_system == \"Linux\"->parl==1.3.1) (0.3)\n",
      "Requirement already satisfied: pyflakes<2.2.0,>=2.1.0 in /opt/conda/envs/python35-paddle120-env/lib/python3.7/site-packages (from flake8>=3.7.9->visualdl>=2.0.0b; python_version >= \"3\" and platform_system == \"Linux\"->parl==1.3.1) (2.1.1)\n",
      "Requirement already satisfied: identify>=1.0.0 in /opt/conda/envs/python35-paddle120-env/lib/python3.7/site-packages (from pre-commit->visualdl>=2.0.0b; python_version >= \"3\" and platform_system == \"Linux\"->parl==1.3.1) (1.4.10)\n",
      "Requirement already satisfied: importlib-metadata; python_version < \"3.8\" in /opt/conda/envs/python35-paddle120-env/lib/python3.7/site-packages (from pre-commit->visualdl>=2.0.0b; python_version >= \"3\" and platform_system == \"Linux\"->parl==1.3.1) (0.23)\n",
      "Requirement already satisfied: pyyaml in /opt/conda/envs/python35-paddle120-env/lib/python3.7/site-packages (from pre-commit->visualdl>=2.0.0b; python_version >= \"3\" and platform_system == \"Linux\"->parl==1.3.1) (5.1.2)\n",
      "Requirement already satisfied: virtualenv>=15.2 in /opt/conda/envs/python35-paddle120-env/lib/python3.7/site-packages (from pre-commit->visualdl>=2.0.0b; python_version >= \"3\" and platform_system == \"Linux\"->parl==1.3.1) (16.7.9)\n",
      "Requirement already satisfied: aspy.yaml in /opt/conda/envs/python35-paddle120-env/lib/python3.7/site-packages (from pre-commit->visualdl>=2.0.0b; python_version >= \"3\" and platform_system == \"Linux\"->parl==1.3.1) (1.3.0)\n",
      "Requirement already satisfied: toml in /opt/conda/envs/python35-paddle120-env/lib/python3.7/site-packages (from pre-commit->visualdl>=2.0.0b; python_version >= \"3\" and platform_system == \"Linux\"->parl==1.3.1) (0.10.0)\n",
      "Requirement already satisfied: nodeenv>=0.11.1 in /opt/conda/envs/python35-paddle120-env/lib/python3.7/site-packages (from pre-commit->visualdl>=2.0.0b; python_version >= \"3\" and platform_system == \"Linux\"->parl==1.3.1) (1.3.4)\n",
      "Requirement already satisfied: cfgv>=2.0.0 in /opt/conda/envs/python35-paddle120-env/lib/python3.7/site-packages (from pre-commit->visualdl>=2.0.0b; python_version >= \"3\" and platform_system == \"Linux\"->parl==1.3.1) (2.0.1)\n",
      "Requirement already satisfied: chardet<3.1.0,>=3.0.2 in /opt/conda/envs/python35-paddle120-env/lib/python3.7/site-packages (from requests->visualdl>=2.0.0b; python_version >= \"3\" and platform_system == \"Linux\"->parl==1.3.1) (3.0.4)\n",
      "Requirement already satisfied: urllib3!=1.25.0,!=1.25.1,<1.26,>=1.21.1 in /opt/conda/envs/python35-paddle120-env/lib/python3.7/site-packages (from requests->visualdl>=2.0.0b; python_version >= \"3\" and platform_system == \"Linux\"->parl==1.3.1) (1.25.6)\n",
      "Requirement already satisfied: certifi>=2017.4.17 in /opt/conda/envs/python35-paddle120-env/lib/python3.7/site-packages (from requests->visualdl>=2.0.0b; python_version >= \"3\" and platform_system == \"Linux\"->parl==1.3.1) (2019.9.11)\n",
      "Requirement already satisfied: idna<2.9,>=2.5 in /opt/conda/envs/python35-paddle120-env/lib/python3.7/site-packages (from requests->visualdl>=2.0.0b; python_version >= \"3\" and platform_system == \"Linux\"->parl==1.3.1) (2.8)\n",
      "Requirement already satisfied: pytz in /opt/conda/envs/python35-paddle120-env/lib/python3.7/site-packages (from Flask-Babel>=1.0.0->visualdl>=2.0.0b; python_version >= \"3\" and platform_system == \"Linux\"->parl==1.3.1) (2019.3)\n",
      "Collecting Babel>=2.3 (from Flask-Babel>=1.0.0->visualdl>=2.0.0b; python_version >= \"3\" and platform_system == \"Linux\"->parl==1.3.1)\n",
      "\u001b[?25l  Downloading https://mirrors.tuna.tsinghua.edu.cn/pypi/web/packages/15/a1/522dccd23e5d2e47aed4b6a16795b8213e3272c7506e625f2425ad025a19/Babel-2.8.0-py2.py3-none-any.whl (8.6MB)\n",
      "\u001b[K     |████████████████████████████████| 8.6MB 95kB/s eta 0:00:011\n",
      "\u001b[?25hRequirement already satisfied: zipp>=0.5 in /opt/conda/envs/python35-paddle120-env/lib/python3.7/site-packages (from importlib-metadata; python_version < \"3.8\"->pre-commit->visualdl>=2.0.0b; python_version >= \"3\" and platform_system == \"Linux\"->parl==1.3.1) (0.6.0)\n",
      "Requirement already satisfied: more-itertools in /opt/conda/envs/python35-paddle120-env/lib/python3.7/site-packages (from zipp>=0.5->importlib-metadata; python_version < \"3.8\"->pre-commit->visualdl>=2.0.0b; python_version >= \"3\" and platform_system == \"Linux\"->parl==1.3.1) (7.2.0)\n",
      "Building wheels for collected packages: psutil, hdfs, docopt\n",
      "  Building wheel for psutil (setup.py) ... \u001b[?25ldone\n",
      "\u001b[?25h  Created wheel for psutil: filename=psutil-5.7.0-cp37-cp37m-linux_x86_64.whl size=261260 sha256=42dc6051ead0c6b20b7b55a85847891dbdfca2be58281d16991b8869a30f8296\n",
      "  Stored in directory: /home/aistudio/.cache/pip/wheels/fd/8b/7e/939524c38be886652fe8b1688384da4bafe0a8224d504e90eb\n",
      "  Building wheel for hdfs (setup.py) ... \u001b[?25ldone\n",
      "\u001b[?25h  Created wheel for hdfs: filename=hdfs-2.5.8-cp37-none-any.whl size=33214 sha256=3e3fd79968bed936a8fe3d3ed12408d3e3f63ebdee571678735820d1a4c94871\n",
      "  Stored in directory: /home/aistudio/.cache/pip/wheels/35/91/05/ed325f80520cc72b4eaa7327f96358c62d84afd098625ed2bd\n",
      "  Building wheel for docopt (setup.py) ... \u001b[?25ldone\n",
      "\u001b[?25h  Created wheel for docopt: filename=docopt-0.6.2-py2.py3-none-any.whl size=13704 sha256=56f072fb76c2a361ae48ac9298b839af1c09819968937042ff19de349fad8312\n",
      "  Stored in directory: /home/aistudio/.cache/pip/wheels/78/da/5a/be54433e626178926da00dbc53e06294ba87ec2c37dded83b4\n",
      "Successfully built psutil hdfs docopt\n",
      "\u001b[31mERROR: paddlehub 1.6.0 requires pandas; python_version >= \"3\", which is not installed.\u001b[0m\n",
      "\u001b[31mERROR: visualdl 2.0.0b6 has requirement six>=1.14.0, but you'll have six 1.12.0 which is incompatible.\u001b[0m\n",
      "Installing collected packages: flask-cors, psutil, docopt, hdfs, Pillow, Babel, Flask-Babel, visualdl, parl\n",
      "  Found existing installation: Pillow 6.2.0\n",
      "    Uninstalling Pillow-6.2.0:\n",
      "      Successfully uninstalled Pillow-6.2.0\n",
      "  Found existing installation: visualdl 1.3.0\n",
      "    Uninstalling visualdl-1.3.0:\n",
      "      Successfully uninstalled visualdl-1.3.0\n",
      "Successfully installed Babel-2.8.0 Flask-Babel-1.0.0 Pillow-7.1.2 docopt-0.6.2 flask-cors-3.0.8 hdfs-2.5.8 parl-1.3.1 psutil-5.7.0 visualdl-2.0.0b6\n"
     ]
    }
   ],
   "source": [
    "!pip uninstall -y parl  # 说明：AIStudio预装的parl版本太老，容易跟其他库产生兼容性冲突，建议先卸载\n",
    "!pip uninstall -y pandas scikit-learn # 提示：在AIStudio中卸载这两个库再import parl可避免warning提示，不卸载也不影响parl的使用\n",
    "!pip uninstall -y paddlepaddle\n",
    "\n",
    "!pip install gym\n",
    "!pip install paddlepaddle==1.6.3\n",
    "!pip install parl==1.3.1\n",
    "\n",
    "# 说明：安装日志中出现两条红色的关于 paddlehub 和 visualdl 的 ERROR 与parl无关，可以忽略，不影响使用"
   ]
  },
  {
   "cell_type": "markdown",
   "metadata": {
    "collapsed": false
   },
   "source": [
    "# Step2  导入依赖"
   ]
  },
  {
   "cell_type": "code",
   "execution_count": 9,
   "metadata": {
    "collapsed": false
   },
   "outputs": [],
   "source": [
    "import parl\n",
    "from parl import layers\n",
    "import paddle.fluid as fluid\n",
    "import copy\n",
    "import numpy as np\n",
    "import os\n",
    "import gym\n",
    "from parl.utils import logger"
   ]
  },
  {
   "cell_type": "markdown",
   "metadata": {
    "collapsed": false
   },
   "source": [
    "# Step3 设置超参数"
   ]
  },
  {
   "cell_type": "code",
   "execution_count": 19,
   "metadata": {
    "collapsed": false
   },
   "outputs": [],
   "source": [
    "LEARN_FREQ = 5 # 训练频率，不需要每一个step都learn，攒一些新增经验后再learn，提高效率\n",
    "MEMORY_SIZE = 20000    # replay memory的大小，越大越占用内存\n",
    "MEMORY_WARMUP_SIZE = 200  # replay_memory 里需要预存一些经验数据，再从里面sample一个batch的经验让agent去learn\n",
    "BATCH_SIZE = 32   # 每次给agent learn的数据数量，从replay memory随机里sample一批数据出来\n",
    "GAMMA = 0.995 # reward 的衰减因子，一般取 0.9 到 0.999 不等，本问题步数较多，贴现率应该高点\n",
    "######################################################################\n",
    "######################################################################\n",
    "#\n",
    "# 1. 请设定 learning rate，可以从 0.001 起调，尝试增减\n",
    "#\n",
    "######################################################################\n",
    "######################################################################\n",
    "LEARNING_RATE = 0.0025 # 学习率\n",
    "\n",
    "e_greed=0.1\n",
    "e_greed_decrement=1e-7"
   ]
  },
  {
   "cell_type": "markdown",
   "metadata": {
    "collapsed": false
   },
   "source": [
    "# Step4 搭建Model、Algorithm、Agent架构\n",
    "* `Agent`把产生的数据传给`algorithm`，`algorithm`根据`model`的模型结构计算出`Loss`，使用`SGD`或者其他优化器不断的优化，`PARL`架构可以很方便的应用在各类深度强化学习问题中。\n",
    "\n",
    "## Model\n",
    "* `Model`用来定义前向(`Forward`)网络，用户可以自由的定制自己的网络结构。"
   ]
  },
  {
   "cell_type": "code",
   "execution_count": 11,
   "metadata": {
    "collapsed": false
   },
   "outputs": [],
   "source": [
    "class Model(parl.Model):\n",
    "    def __init__(self, act_dim):\n",
    "        ######################################################################\n",
    "        ######################################################################\n",
    "        #\n",
    "        # 2. 请参考课堂Demo，配置model\n",
    "        #\n",
    "        ######################################################################\n",
    "        ######################################################################\n",
    "        hid1_size = 64\n",
    "        hid2_size = 64\n",
    "        # hid3_size = 64\n",
    "        # self.hidden_layers = [hid1_size, hid2_size, hid3_size]\n",
    "        self.hidden_layers = [hid1_size, hid2_size]\n",
    "        # 4层\n",
    "        self.fc1 = layers.fc(size=hid1_size, act='relu')\n",
    "        self.fc2 = layers.fc(size=hid2_size, act='relu')\n",
    "        # self.fc3 = layers.fc(size=hid3_size, act='relu')\n",
    "        # self.fc4 = layers.fc(size=act_dim, act=None)\n",
    "        self.fc3 = layers.fc(size=act_dim, act=None)\n",
    "\n",
    "    def value(self, obs):\n",
    "        # 定义网络\n",
    "        # 输入state，输出所有action对应的Q，[Q(s,a1), Q(s,a2), Q(s,a3)...]\n",
    "        \n",
    "        ######################################################################\n",
    "        ######################################################################\n",
    "        #\n",
    "        # 3. 请参考课堂Demo，组装Q网络\n",
    "        #\n",
    "        ######################################################################\n",
    "        ######################################################################\n",
    "        h1 = self.fc1(obs)\n",
    "        h2 = self.fc2(h1)\n",
    "        # h3 = self.fc3(h2)\n",
    "        # Q = self.fc4(h3)\n",
    "        Q = self.fc3(h2)\n",
    "        return Q"
   ]
  },
  {
   "cell_type": "markdown",
   "metadata": {
    "collapsed": false
   },
   "source": [
    "## Algorithm\n",
    "* `Algorithm`定义了具体的算法来更新前向网络(`Model`)，也就是通过定义损失函数来更新`Model`，和算法相关的计算都放在`algorithm`中。"
   ]
  },
  {
   "cell_type": "code",
   "execution_count": 12,
   "metadata": {
    "collapsed": false
   },
   "outputs": [],
   "source": [
    "from parl.algorithms import DQN # 直接从parl库中导入DQN算法，无需自己重写算法"
   ]
  },
  {
   "cell_type": "markdown",
   "metadata": {
    "collapsed": false
   },
   "source": [
    "## Agent\n",
    "* `Agent`负责算法与环境的交互，在交互过程中把生成的数据提供给`Algorithm`来更新模型(`Model`)，数据的预处理流程也一般定义在这里。"
   ]
  },
  {
   "cell_type": "code",
   "execution_count": 13,
   "metadata": {
    "collapsed": false
   },
   "outputs": [],
   "source": [
    "class Agent(parl.Agent):\n",
    "    def __init__(self,\n",
    "                 algorithm,\n",
    "                 obs_dim,\n",
    "                 act_dim,\n",
    "                 e_greed=0.1,\n",
    "                 e_greed_decrement=0):\n",
    "        assert isinstance(obs_dim, int)\n",
    "        assert isinstance(act_dim, int)\n",
    "        self.obs_dim = obs_dim\n",
    "        self.act_dim = act_dim\n",
    "        super(Agent, self).__init__(algorithm)\n",
    "\n",
    "        self.global_step = 0\n",
    "        self.update_target_steps = 200  # 每隔200个training steps再把model的参数复制到target_model中\n",
    "\n",
    "        self.e_greed = e_greed  # 有一定概率随机选取动作，探索\n",
    "        self.e_greed_decrement = e_greed_decrement  # 随着训练逐步收敛，探索的程度慢慢降低\n",
    "\n",
    "    def build_program(self):\n",
    "        self.pred_program = fluid.Program()\n",
    "        self.learn_program = fluid.Program()\n",
    "\n",
    "        with fluid.program_guard(self.pred_program):  # 搭建计算图用于 预测动作，定义输入输出变量\n",
    "            obs = layers.data(\n",
    "                name='obs', shape=[self.obs_dim], dtype='float32')\n",
    "            self.value = self.alg.predict(obs)\n",
    "\n",
    "        with fluid.program_guard(self.learn_program):  # 搭建计算图用于 更新Q网络，定义输入输出变量\n",
    "            obs = layers.data(\n",
    "                name='obs', shape=[self.obs_dim], dtype='float32')\n",
    "            action = layers.data(name='act', shape=[1], dtype='int32')\n",
    "            reward = layers.data(name='reward', shape=[], dtype='float32')\n",
    "            next_obs = layers.data(\n",
    "                name='next_obs', shape=[self.obs_dim], dtype='float32')\n",
    "            terminal = layers.data(name='terminal', shape=[], dtype='bool')\n",
    "            self.cost = self.alg.learn(obs, action, reward, next_obs, terminal)\n",
    "\n",
    "    def sample(self, obs):\n",
    "        sample = np.random.rand()  # 产生0~1之间的小数\n",
    "        if sample < self.e_greed:\n",
    "            act = np.random.randint(self.act_dim)  # 探索：每个动作都有概率被选择\n",
    "        else:\n",
    "            act = self.predict(obs)  # 选择最优动作\n",
    "        self.e_greed = max(\n",
    "            0.01, self.e_greed - self.e_greed_decrement)  # 随着训练逐步收敛，探索的程度慢慢降低\n",
    "        return act\n",
    "\n",
    "    def predict(self, obs):  # 选择最优动作\n",
    "        obs = np.expand_dims(obs, axis=0)\n",
    "        pred_Q = self.fluid_executor.run(\n",
    "            self.pred_program,\n",
    "            feed={'obs': obs.astype('float32')},\n",
    "            fetch_list=[self.value])[0]\n",
    "        pred_Q = np.squeeze(pred_Q, axis=0)\n",
    "        act = np.argmax(pred_Q)  # 选择Q最大的下标，即对应的动作\n",
    "        return act\n",
    "\n",
    "    def learn(self, obs, act, reward, next_obs, terminal):\n",
    "        # 每隔200个training steps同步一次model和target_model的参数\n",
    "        if self.global_step % self.update_target_steps == 0:\n",
    "            self.alg.sync_target()\n",
    "        self.global_step += 1\n",
    "\n",
    "        act = np.expand_dims(act, -1)\n",
    "        feed = {\n",
    "            'obs': obs.astype('float32'),\n",
    "            'act': act.astype('int32'),\n",
    "            'reward': reward,\n",
    "            'next_obs': next_obs.astype('float32'),\n",
    "            'terminal': terminal\n",
    "        }\n",
    "        cost = self.fluid_executor.run(\n",
    "            self.learn_program, feed=feed, fetch_list=[self.cost])[0]  # 训练一次网络\n",
    "        return cost"
   ]
  },
  {
   "cell_type": "markdown",
   "metadata": {
    "collapsed": false
   },
   "source": [
    "# Step5 ReplayMemory\n",
    "* 经验池：用于存储多条经验，实现 经验回放。"
   ]
  },
  {
   "cell_type": "code",
   "execution_count": 14,
   "metadata": {
    "collapsed": false
   },
   "outputs": [],
   "source": [
    "# replay_memory.py\n",
    "import random\n",
    "import collections\n",
    "import numpy as np\n",
    "\n",
    "\n",
    "class ReplayMemory(object):\n",
    "    def __init__(self, max_size):\n",
    "        self.buffer = collections.deque(maxlen=max_size)\n",
    "\n",
    "    # 增加一条经验到经验池中\n",
    "    def append(self, exp):\n",
    "        self.buffer.append(exp)\n",
    "\n",
    "    # 从经验池中选取N条经验出来\n",
    "    def sample(self, batch_size):\n",
    "        mini_batch = random.sample(self.buffer, batch_size)\n",
    "        obs_batch, action_batch, reward_batch, next_obs_batch, done_batch = [], [], [], [], []\n",
    "\n",
    "        for experience in mini_batch:\n",
    "            s, a, r, s_p, done = experience\n",
    "            obs_batch.append(s)\n",
    "            action_batch.append(a)\n",
    "            reward_batch.append(r)\n",
    "            next_obs_batch.append(s_p)\n",
    "            done_batch.append(done)\n",
    "\n",
    "        return np.array(obs_batch).astype('float32'), \\\n",
    "            np.array(action_batch).astype('float32'), np.array(reward_batch).astype('float32'),\\\n",
    "            np.array(next_obs_batch).astype('float32'), np.array(done_batch).astype('float32')\n",
    "\n",
    "    def __len__(self):\n",
    "        return len(self.buffer)\n"
   ]
  },
  {
   "cell_type": "markdown",
   "metadata": {
    "collapsed": false
   },
   "source": [
    "# Step6 Training && Test（训练&&测试）"
   ]
  },
  {
   "cell_type": "code",
   "execution_count": 15,
   "metadata": {
    "collapsed": false
   },
   "outputs": [],
   "source": [
    "# 训练一个episode\n",
    "def run_episode(env, agent, rpm):\n",
    "    total_reward = 0\n",
    "    obs = env.reset()\n",
    "    step = 0\n",
    "    while True:\n",
    "        step += 1\n",
    "        action = agent.sample(obs)  # 采样动作，所有动作都有概率被尝试到\n",
    "        next_obs, reward, done, _ = env.step(action)\n",
    "        rpm.append((obs, action, reward, next_obs, done))\n",
    "\n",
    "        # train model\n",
    "        if (len(rpm) > MEMORY_WARMUP_SIZE) and (step % LEARN_FREQ == 0):\n",
    "            (batch_obs, batch_action, batch_reward, batch_next_obs,\n",
    "             batch_done) = rpm.sample(BATCH_SIZE)\n",
    "            train_loss = agent.learn(batch_obs, batch_action, batch_reward,\n",
    "                                     batch_next_obs,\n",
    "                                     batch_done)  # s,a,r,s',done\n",
    "\n",
    "        total_reward += reward\n",
    "        obs = next_obs\n",
    "        if done:\n",
    "            break\n",
    "    return total_reward\n",
    "\n",
    "\n",
    "# 评估 agent, 跑 5 个episode，总reward求平均\n",
    "def evaluate(env, agent, render=False):\n",
    "    eval_reward = []\n",
    "    for i in range(5):\n",
    "        obs = env.reset()\n",
    "        episode_reward = 0\n",
    "        while True:\n",
    "            action = agent.predict(obs)  # 预测动作，只选最优动作\n",
    "            obs, reward, done, _ = env.step(action)\n",
    "            episode_reward += reward\n",
    "            if render:\n",
    "                env.render()\n",
    "            if done:\n",
    "                break\n",
    "        eval_reward.append(episode_reward)\n",
    "    return np.mean(eval_reward)\n"
   ]
  },
  {
   "cell_type": "markdown",
   "metadata": {
    "collapsed": false
   },
   "source": [
    "# Step7 创建环境和Agent，创建经验池，启动训练，保存模型"
   ]
  },
  {
   "cell_type": "code",
   "execution_count": 20,
   "metadata": {
    "collapsed": false
   },
   "outputs": [
    {
     "name": "stdout",
     "output_type": "stream",
     "text": [
      "\u001b[32m[06-18 19:48:07 MainThread @machine_info.py:88]\u001b[0m Cannot find available GPU devices, using CPU now.\n",
      "\u001b[32m[06-18 19:48:07 MainThread @machine_info.py:88]\u001b[0m Cannot find available GPU devices, using CPU now.\n",
      "\u001b[32m[06-18 19:48:08 MainThread @<ipython-input-20-d8311c7646f9>:35]\u001b[0m model_hidden_lay=[64, 64], LEARNING_RATE=0.0025, GAMMA=0.995, MEMORY_SIZE=20000, e_greed_decrement=1e-07, e_greed=0.1, max_episode=2000, LEARN_FREQ=5, MEMORY_WARMUP_SIZE=200, BATCH_SIZE=32\n",
      "\u001b[32m[06-18 19:48:08 MainThread @machine_info.py:88]\u001b[0m Cannot find available GPU devices, using CPU now.\n",
      "\u001b[32m[06-18 19:48:48 MainThread @<ipython-input-20-d8311c7646f9>:52]\u001b[0m episode:50    e_greed:0.09898389999997079   test_reward:-200.0\n",
      "\u001b[32m[06-18 19:49:34 MainThread @<ipython-input-20-d8311c7646f9>:52]\u001b[0m episode:100    e_greed:0.0979861999999421   test_reward:-200.0\n",
      "\u001b[32m[06-18 19:50:19 MainThread @<ipython-input-20-d8311c7646f9>:52]\u001b[0m episode:150    e_greed:0.0969880999999134   test_reward:-200.0\n",
      "\u001b[32m[06-18 19:51:05 MainThread @<ipython-input-20-d8311c7646f9>:52]\u001b[0m episode:200    e_greed:0.09599939999988497   test_reward:-200.0\n",
      "\u001b[32m[06-18 19:51:51 MainThread @<ipython-input-20-d8311c7646f9>:52]\u001b[0m episode:250    e_greed:0.09499939999985621   test_reward:-200.0\n",
      "\u001b[32m[06-18 19:52:37 MainThread @<ipython-input-20-d8311c7646f9>:52]\u001b[0m episode:300    e_greed:0.09399939999982745   test_reward:-200.0\n",
      "\u001b[32m[06-18 19:53:23 MainThread @<ipython-input-20-d8311c7646f9>:52]\u001b[0m episode:350    e_greed:0.0929993999997987   test_reward:-200.0\n",
      "\u001b[32m[06-18 19:54:09 MainThread @<ipython-input-20-d8311c7646f9>:52]\u001b[0m episode:400    e_greed:0.09200239999977003   test_reward:-200.0\n",
      "\u001b[32m[06-18 19:54:53 MainThread @<ipython-input-20-d8311c7646f9>:52]\u001b[0m episode:450    e_greed:0.09100239999974127   test_reward:-200.0\n",
      "\u001b[32m[06-18 19:55:35 MainThread @<ipython-input-20-d8311c7646f9>:52]\u001b[0m episode:500    e_greed:0.09001019999971274   test_reward:-200.0\n",
      "\u001b[32m[06-18 19:56:17 MainThread @<ipython-input-20-d8311c7646f9>:52]\u001b[0m episode:550    e_greed:0.0890176999996842   test_reward:-200.0\n",
      "\u001b[32m[06-18 19:56:59 MainThread @<ipython-input-20-d8311c7646f9>:52]\u001b[0m episode:600    e_greed:0.08803109999965583   test_reward:-200.0\n",
      "\u001b[32m[06-18 19:57:42 MainThread @<ipython-input-20-d8311c7646f9>:52]\u001b[0m episode:650    e_greed:0.08704389999962744   test_reward:-200.0\n",
      "\u001b[32m[06-18 19:58:23 MainThread @<ipython-input-20-d8311c7646f9>:52]\u001b[0m episode:700    e_greed:0.08607099999959947   test_reward:-200.0\n",
      "\u001b[32m[06-18 19:59:03 MainThread @<ipython-input-20-d8311c7646f9>:52]\u001b[0m episode:750    e_greed:0.08515339999957308   test_reward:-200.0\n",
      "\u001b[32m[06-18 19:59:43 MainThread @<ipython-input-20-d8311c7646f9>:52]\u001b[0m episode:800    e_greed:0.0842220999995463   test_reward:-200.0\n",
      "\u001b[32m[06-18 20:00:22 MainThread @<ipython-input-20-d8311c7646f9>:52]\u001b[0m episode:850    e_greed:0.08328499999951935   test_reward:-200.0\n",
      "\u001b[32m[06-18 20:01:01 MainThread @<ipython-input-20-d8311c7646f9>:52]\u001b[0m episode:900    e_greed:0.0823717999994931   test_reward:-181.0\n",
      "\u001b[32m[06-18 20:01:36 MainThread @<ipython-input-20-d8311c7646f9>:52]\u001b[0m episode:950    e_greed:0.08152559999946876   test_reward:-162.2\n",
      "\u001b[32m[06-18 20:02:09 MainThread @<ipython-input-20-d8311c7646f9>:52]\u001b[0m episode:1000    e_greed:0.08070489999944516   test_reward:-102.4\n",
      "\u001b[32m[06-18 20:02:43 MainThread @<ipython-input-20-d8311c7646f9>:52]\u001b[0m episode:1050    e_greed:0.07989109999942176   test_reward:-134.0\n",
      "\u001b[32m[06-18 20:03:21 MainThread @<ipython-input-20-d8311c7646f9>:52]\u001b[0m episode:1100    e_greed:0.07908279999939852   test_reward:-141.6\n",
      "\u001b[32m[06-18 20:03:55 MainThread @<ipython-input-20-d8311c7646f9>:52]\u001b[0m episode:1150    e_greed:0.07835999999937773   test_reward:-190.6\n",
      "\u001b[32m[06-18 20:04:31 MainThread @<ipython-input-20-d8311c7646f9>:52]\u001b[0m episode:1200    e_greed:0.07759539999935575   test_reward:-150.6\n",
      "\u001b[32m[06-18 20:05:03 MainThread @<ipython-input-20-d8311c7646f9>:52]\u001b[0m episode:1250    e_greed:0.07691409999933616   test_reward:-111.8\n",
      "\u001b[32m[06-18 20:05:33 MainThread @<ipython-input-20-d8311c7646f9>:52]\u001b[0m episode:1300    e_greed:0.07627809999931787   test_reward:-123.4\n",
      "\u001b[32m[06-18 20:06:06 MainThread @<ipython-input-20-d8311c7646f9>:52]\u001b[0m episode:1350    e_greed:0.07557819999929774   test_reward:-123.8\n",
      "\u001b[32m[06-18 20:06:38 MainThread @<ipython-input-20-d8311c7646f9>:52]\u001b[0m episode:1400    e_greed:0.07488699999927786   test_reward:-147.2\n",
      "\u001b[32m[06-18 20:07:10 MainThread @<ipython-input-20-d8311c7646f9>:52]\u001b[0m episode:1450    e_greed:0.07420399999925822   test_reward:-134.4\n",
      "\u001b[32m[06-18 20:07:42 MainThread @<ipython-input-20-d8311c7646f9>:52]\u001b[0m episode:1500    e_greed:0.0735143999992384   test_reward:-114.2\n",
      "\u001b[32m[06-18 20:08:15 MainThread @<ipython-input-20-d8311c7646f9>:52]\u001b[0m episode:1550    e_greed:0.07282769999921865   test_reward:-159.8\n",
      "\u001b[32m[06-18 20:08:49 MainThread @<ipython-input-20-d8311c7646f9>:52]\u001b[0m episode:1600    e_greed:0.07210909999919798   test_reward:-130.0\n",
      "\u001b[32m[06-18 20:09:22 MainThread @<ipython-input-20-d8311c7646f9>:52]\u001b[0m episode:1650    e_greed:0.07140569999917776   test_reward:-109.2\n",
      "\u001b[32m[06-18 20:09:54 MainThread @<ipython-input-20-d8311c7646f9>:52]\u001b[0m episode:1700    e_greed:0.07070779999915769   test_reward:-118.0\n",
      "\u001b[32m[06-18 20:10:27 MainThread @<ipython-input-20-d8311c7646f9>:52]\u001b[0m episode:1750    e_greed:0.07002189999913797   test_reward:-99.6\n",
      "\u001b[32m[06-18 20:10:56 MainThread @<ipython-input-20-d8311c7646f9>:52]\u001b[0m episode:1800    e_greed:0.06940309999912017   test_reward:-102.6\n",
      "\u001b[32m[06-18 20:11:24 MainThread @<ipython-input-20-d8311c7646f9>:52]\u001b[0m episode:1850    e_greed:0.06879399999910266   test_reward:-106.2\n",
      "\u001b[32m[06-18 20:11:52 MainThread @<ipython-input-20-d8311c7646f9>:52]\u001b[0m episode:1900    e_greed:0.06820809999908581   test_reward:-114.8\n",
      "\u001b[32m[06-18 20:12:20 MainThread @<ipython-input-20-d8311c7646f9>:52]\u001b[0m episode:1950    e_greed:0.06758669999906794   test_reward:-109.8\n",
      "\u001b[32m[06-18 20:12:51 MainThread @<ipython-input-20-d8311c7646f9>:52]\u001b[0m episode:2000    e_greed:0.06694229999904941   test_reward:-153.0\n"
     ]
    }
   ],
   "source": [
    "# 创建环境\n",
    "env = gym.make('MountainCar-v0')\n",
    "action_dim = env.action_space.n  # MountainCar-v0: 3\n",
    "obs_shape = env.observation_space.shape  # MountainCar-v0: (2,)\n",
    "\n",
    "# 创建经验池\n",
    "rpm = ReplayMemory(MEMORY_SIZE)  # DQN的经验回放池\n",
    "\n",
    "\n",
    "\n",
    "# 根据parl框架构建agent\n",
    "######################################################################\n",
    "######################################################################\n",
    "#\n",
    "# 4. 请参考课堂Demo，嵌套Model, DQN, Agent构建 agent\n",
    "#\n",
    "######################################################################\n",
    "######################################################################\n",
    "model = Model(act_dim=action_dim)\n",
    "algorithm = DQN(model, act_dim=action_dim, gamma=GAMMA, lr=LEARNING_RATE)\n",
    "agent = Agent(algorithm, obs_dim=obs_shape[0], act_dim=action_dim, e_greed=e_greed, e_greed_decrement=e_greed_decrement)\n",
    "\n",
    "\n",
    "# 加载模型\n",
    "# save_path = './dqn_model.ckpt'\n",
    "# agent.restore(save_path)\n",
    "\n",
    "# 先往经验池里存一些数据，避免最开始训练的时候样本丰富度不够\n",
    "while len(rpm) < MEMORY_WARMUP_SIZE:\n",
    "    run_episode(env, agent, rpm)\n",
    "\n",
    "max_episode = 2000\n",
    "\n",
    "logger.info(f'model_hidden_lay={model.hidden_layers}, LEARNING_RATE={LEARNING_RATE}, GAMMA={GAMMA}, MEMORY_SIZE={MEMORY_SIZE}, e_greed_decrement={e_greed_decrement}, \\\n",
    "e_greed={e_greed}, max_episode={max_episode}, LEARN_FREQ={LEARN_FREQ}, MEMORY_WARMUP_SIZE={MEMORY_WARMUP_SIZE}, BATCH_SIZE={BATCH_SIZE}')\n",
    "\n",
    "# 开始训练\n",
    "episode = 0\n",
    "train_score_list = []  # 记录所有分数\n",
    "test_score_list = []\n",
    "while episode < max_episode:  # 训练max_episode个回合，test部分不计算入episode数量\n",
    "    # train part\n",
    "    for i in range(0, 50):\n",
    "        total_reward = run_episode(env, agent, rpm)\n",
    "        episode += 1\n",
    "    train_score_list.append(total_reward)  # 每50轮记录一次训练分数\n",
    "\n",
    "    # test part\n",
    "    eval_reward = evaluate(env, agent, render=False)  # render=True 查看显示效果\n",
    "    test_score_list.append(eval_reward)    # 每50轮记录一次测试分数\n",
    "    logger.info('episode:{}    e_greed:{}   test_reward:{}'.format(\n",
    "        episode, agent.e_greed, eval_reward))\n",
    "\n",
    "# 训练结束，保存模型\n",
    "save_path = './dqn_model.ckpt'\n",
    "agent.save(save_path)"
   ]
  },
  {
   "cell_type": "code",
   "execution_count": 21,
   "metadata": {
    "collapsed": false
   },
   "outputs": [
    {
     "data": {
      "image/png": "[encoded data removed]",
      "text/plain": [
       "<Figure size 432x288 with 1 Axes>"
      ]
     },
     "metadata": {},
     "output_type": "display_data"
    }
   ],
   "source": [
    "# 画出训练过程train和test reward历史曲线\n",
    "import matplotlib.pyplot as plt\n",
    "%matplotlib inline\n",
    "plt.plot(train_score_list, color='green', label='train')\n",
    "plt.plot(test_score_list, color='red', label='test')\n",
    "plt.title('Reward History')\n",
    "plt.legend()\n",
    "plt.show()"
   ]
  },
  {
   "cell_type": "code",
   "execution_count": 22,
   "metadata": {
    "collapsed": false
   },
   "outputs": [
    {
     "name": "stdout",
     "output_type": "stream",
     "text": [
      "\u001b[32m[06-18 20:13:20 MainThread @<ipython-input-22-c21ef8df243d>:22]\u001b[0m episode:2000    e_greed:0.06694229999904941   test_reward:-112.23\n"
     ]
    },
    {
     "data": {
      "image/png": "[encoded data removed]",
      "text/plain": [
       "<Figure size 432x288 with 1 Axes>"
      ]
     },
     "metadata": {},
     "output_type": "display_data"
    }
   ],
   "source": [
    "# final test \n",
    "# 评估 agent, 跑 100 个episode，总reward求平均\n",
    "def evaluate_final(env, agent, render=False, cnt_run=100):\n",
    "    eval_reward = []\n",
    "    for i in range(cnt_run):\n",
    "        obs = env.reset()\n",
    "        episode_reward = 0\n",
    "        while True:\n",
    "            action = agent.predict(obs)  # 预测动作，只选最优动作\n",
    "            obs, reward, done, _ = env.step(action)\n",
    "            episode_reward += reward\n",
    "            if render:\n",
    "                env.render()\n",
    "            if done:\n",
    "                break\n",
    "        eval_reward.append(episode_reward)\n",
    "    return eval_reward\n",
    "\n",
    "cnt_run = 100\n",
    "eval_reward = evaluate_final(env, agent, render=False, cnt_run=cnt_run)  # render=True 查看显示效果 \n",
    "logger.info('episode:{}    e_greed:{}   test_reward:{}'.format(\n",
    "    episode, agent.e_greed, np.mean(eval_reward)))\n",
    "\n",
    "plt.plot(eval_reward, color='red', label='eval_reward') \n",
    "plt.title(f'Evaluation Reward for {cnt_run} rounds, average={np.mean(eval_reward)}')\n",
    "plt.legend()\n",
    "plt.show()"
   ]
  },
  {
   "cell_type": "code",
   "execution_count": 23,
   "metadata": {
    "collapsed": false
   },
   "outputs": [],
   "source": [
    "class Model(parl.Model):\n",
    "    def __init__(self, act_dim):\n",
    "        # 3层隐藏层\n",
    "        hid1_size = 24\n",
    "        hid2_size = 48\n",
    "        hid3_size = 24\n",
    "        self.hidden_layers = [hid1_size, hid2_size, hid3_size]\n",
    "        # 4层\n",
    "        self.fc1 = layers.fc(size=hid1_size, act='relu')\n",
    "        self.fc2 = layers.fc(size=hid2_size, act='relu') \n",
    "        self.fc3 = layers.fc(size=hid3_size, act='relu') \n",
    "        self.fc4 = layers.fc(size=act_dim, act=None)\n",
    "\n",
    "    def value(self, obs):\n",
    "        # 定义网络\n",
    "        # 输入state，输出所有action对应的Q，[Q(s,a1), Q(s,a2), Q(s,a3)...] \n",
    "        h1 = self.fc1(obs)\n",
    "        h2 = self.fc2(h1) \n",
    "        h3 = self.fc3(h2) \n",
    "        Q = self.fc4(h3)\n",
    "        return Q"
   ]
  },
  {
   "cell_type": "code",
   "execution_count": 24,
   "metadata": {
    "collapsed": false
   },
   "outputs": [
    {
     "name": "stdout",
     "output_type": "stream",
     "text": [
      "\u001b[32m[06-18 20:13:20 MainThread @machine_info.py:88]\u001b[0m Cannot find available GPU devices, using CPU now.\n",
      "\u001b[32m[06-18 20:13:21 MainThread @machine_info.py:88]\u001b[0m Cannot find available GPU devices, using CPU now.\n",
      "\u001b[32m[06-18 20:13:21 MainThread @<ipython-input-24-6e73e61720ec>:26]\u001b[0m model_hidden_lay=[24, 48, 24], LEARNING_RATE=0.0025, GAMMA=0.995, MEMORY_SIZE=20000, e_greed_decrement=1e-07, e_greed=0.1, max_episode=2000, LEARN_FREQ=5, MEMORY_WARMUP_SIZE=200, BATCH_SIZE=32\n",
      "\u001b[32m[06-18 20:13:21 MainThread @machine_info.py:88]\u001b[0m Cannot find available GPU devices, using CPU now.\n",
      "\u001b[32m[06-18 20:14:08 MainThread @<ipython-input-24-6e73e61720ec>:43]\u001b[0m episode:50    e_greed:0.09897999999997067   test_reward:-200.0\n",
      "\u001b[32m[06-18 20:14:57 MainThread @<ipython-input-24-6e73e61720ec>:43]\u001b[0m episode:100    e_greed:0.09798689999994212   test_reward:-200.0\n",
      "\u001b[32m[06-18 20:15:47 MainThread @<ipython-input-24-6e73e61720ec>:43]\u001b[0m episode:150    e_greed:0.09698699999991336   test_reward:-200.0\n",
      "\u001b[32m[06-18 20:16:36 MainThread @<ipython-input-24-6e73e61720ec>:43]\u001b[0m episode:200    e_greed:0.09598849999988465   test_reward:-200.0\n",
      "\u001b[32m[06-18 20:17:25 MainThread @<ipython-input-24-6e73e61720ec>:43]\u001b[0m episode:250    e_greed:0.0949884999998559   test_reward:-200.0\n",
      "\u001b[32m[06-18 20:18:14 MainThread @<ipython-input-24-6e73e61720ec>:43]\u001b[0m episode:300    e_greed:0.09398849999982714   test_reward:-200.0\n",
      "\u001b[32m[06-18 20:19:04 MainThread @<ipython-input-24-6e73e61720ec>:43]\u001b[0m episode:350    e_greed:0.09298849999979839   test_reward:-200.0\n",
      "\u001b[32m[06-18 20:19:53 MainThread @<ipython-input-24-6e73e61720ec>:43]\u001b[0m episode:400    e_greed:0.09198949999976966   test_reward:-200.0\n",
      "\u001b[32m[06-18 20:20:44 MainThread @<ipython-input-24-6e73e61720ec>:43]\u001b[0m episode:450    e_greed:0.0909894999997409   test_reward:-200.0\n",
      "\u001b[32m[06-18 20:21:34 MainThread @<ipython-input-24-6e73e61720ec>:43]\u001b[0m episode:500    e_greed:0.08998949999971215   test_reward:-200.0\n",
      "\u001b[32m[06-18 20:22:24 MainThread @<ipython-input-24-6e73e61720ec>:43]\u001b[0m episode:550    e_greed:0.08899199999968346   test_reward:-200.0\n",
      "\u001b[32m[06-18 20:23:14 MainThread @<ipython-input-24-6e73e61720ec>:43]\u001b[0m episode:600    e_greed:0.08799199999965471   test_reward:-200.0\n",
      "\u001b[32m[06-18 20:24:04 MainThread @<ipython-input-24-6e73e61720ec>:43]\u001b[0m episode:650    e_greed:0.08699299999962598   test_reward:-200.0\n",
      "\u001b[32m[06-18 20:24:53 MainThread @<ipython-input-24-6e73e61720ec>:43]\u001b[0m episode:700    e_greed:0.0860096999995977   test_reward:-200.0\n",
      "\u001b[32m[06-18 20:25:42 MainThread @<ipython-input-24-6e73e61720ec>:43]\u001b[0m episode:750    e_greed:0.08501809999956919   test_reward:-200.0\n",
      "\u001b[32m[06-18 20:26:31 MainThread @<ipython-input-24-6e73e61720ec>:43]\u001b[0m episode:800    e_greed:0.08401809999954044   test_reward:-200.0\n",
      "\u001b[32m[06-18 20:27:20 MainThread @<ipython-input-24-6e73e61720ec>:43]\u001b[0m episode:850    e_greed:0.08303059999951204   test_reward:-200.0\n",
      "\u001b[32m[06-18 20:28:08 MainThread @<ipython-input-24-6e73e61720ec>:43]\u001b[0m episode:900    e_greed:0.08206469999948426   test_reward:-200.0\n",
      "\u001b[32m[06-18 20:28:56 MainThread @<ipython-input-24-6e73e61720ec>:43]\u001b[0m episode:950    e_greed:0.08109389999945635   test_reward:-177.8\n",
      "\u001b[32m[06-18 20:29:45 MainThread @<ipython-input-24-6e73e61720ec>:43]\u001b[0m episode:1000    e_greed:0.0801114999994281   test_reward:-200.0\n",
      "\u001b[32m[06-18 20:30:29 MainThread @<ipython-input-24-6e73e61720ec>:43]\u001b[0m episode:1050    e_greed:0.07919859999940185   test_reward:-200.0\n",
      "\u001b[32m[06-18 20:31:18 MainThread @<ipython-input-24-6e73e61720ec>:43]\u001b[0m episode:1100    e_greed:0.07822719999937391   test_reward:-200.0\n",
      "\u001b[32m[06-18 20:32:03 MainThread @<ipython-input-24-6e73e61720ec>:43]\u001b[0m episode:1150    e_greed:0.0772981999993472   test_reward:-152.4\n",
      "\u001b[32m[06-18 20:32:45 MainThread @<ipython-input-24-6e73e61720ec>:43]\u001b[0m episode:1200    e_greed:0.07642999999932223   test_reward:-154.4\n",
      "\u001b[32m[06-18 20:33:24 MainThread @<ipython-input-24-6e73e61720ec>:43]\u001b[0m episode:1250    e_greed:0.07562509999929909   test_reward:-138.2\n",
      "\u001b[32m[06-18 20:34:03 MainThread @<ipython-input-24-6e73e61720ec>:43]\u001b[0m episode:1300    e_greed:0.07483889999927648   test_reward:-200.0\n",
      "\u001b[32m[06-18 20:34:41 MainThread @<ipython-input-24-6e73e61720ec>:43]\u001b[0m episode:1350    e_greed:0.07407499999925451   test_reward:-153.6\n",
      "\u001b[32m[06-18 20:35:20 MainThread @<ipython-input-24-6e73e61720ec>:43]\u001b[0m episode:1400    e_greed:0.0732676999992313   test_reward:-157.6\n",
      "\u001b[32m[06-18 20:35:57 MainThread @<ipython-input-24-6e73e61720ec>:43]\u001b[0m episode:1450    e_greed:0.07249059999920895   test_reward:-121.4\n",
      "\u001b[32m[06-18 20:36:31 MainThread @<ipython-input-24-6e73e61720ec>:43]\u001b[0m episode:1500    e_greed:0.07179359999918891   test_reward:-106.6\n",
      "\u001b[32m[06-18 20:37:02 MainThread @<ipython-input-24-6e73e61720ec>:43]\u001b[0m episode:1550    e_greed:0.07115359999917051   test_reward:-111.6\n",
      "\u001b[32m[06-18 20:37:31 MainThread @<ipython-input-24-6e73e61720ec>:43]\u001b[0m episode:1600    e_greed:0.07056499999915358   test_reward:-165.0\n",
      "\u001b[32m[06-18 20:37:59 MainThread @<ipython-input-24-6e73e61720ec>:43]\u001b[0m episode:1650    e_greed:0.06999319999913714   test_reward:-113.0\n",
      "\u001b[32m[06-18 20:38:26 MainThread @<ipython-input-24-6e73e61720ec>:43]\u001b[0m episode:1700    e_greed:0.06941999999912066   test_reward:-109.8\n",
      "\u001b[32m[06-18 20:38:56 MainThread @<ipython-input-24-6e73e61720ec>:43]\u001b[0m episode:1750    e_greed:0.06880689999910303   test_reward:-101.8\n",
      "\u001b[32m[06-18 20:39:30 MainThread @<ipython-input-24-6e73e61720ec>:43]\u001b[0m episode:1800    e_greed:0.06813389999908367   test_reward:-119.4\n",
      "\u001b[32m[06-18 20:40:03 MainThread @<ipython-input-24-6e73e61720ec>:43]\u001b[0m episode:1850    e_greed:0.06744719999906393   test_reward:-116.6\n",
      "\u001b[32m[06-18 20:40:33 MainThread @<ipython-input-24-6e73e61720ec>:43]\u001b[0m episode:1900    e_greed:0.06683859999904643   test_reward:-112.8\n",
      "\u001b[32m[06-18 20:41:02 MainThread @<ipython-input-24-6e73e61720ec>:43]\u001b[0m episode:1950    e_greed:0.0662359999990291   test_reward:-107.4\n",
      "\u001b[32m[06-18 20:41:31 MainThread @<ipython-input-24-6e73e61720ec>:43]\u001b[0m episode:2000    e_greed:0.06563359999901178   test_reward:-108.4\n"
     ]
    }
   ],
   "source": [
    "# 创建环境\n",
    "env = gym.make('MountainCar-v0')\n",
    "action_dim = env.action_space.n  # MountainCar-v0: 3\n",
    "obs_shape = env.observation_space.shape  # MountainCar-v0: (2,)\n",
    "\n",
    "# 创建经验池\n",
    "rpm = ReplayMemory(MEMORY_SIZE)  # DQN的经验回放池\n",
    "\n",
    "# 根据parl框架构建agent \n",
    "model = Model(act_dim=action_dim)\n",
    "algorithm = DQN(model, act_dim=action_dim, gamma=GAMMA, lr=LEARNING_RATE)\n",
    "agent = Agent(algorithm, obs_dim=obs_shape[0], act_dim=action_dim, e_greed=e_greed, e_greed_decrement=e_greed_decrement)\n",
    "\n",
    "\n",
    "# 加载模型\n",
    "# save_path = './dqn_model.ckpt'\n",
    "# agent.restore(save_path)\n",
    "\n",
    "# 先往经验池里存一些数据，避免最开始训练的时候样本丰富度不够\n",
    "while len(rpm) < MEMORY_WARMUP_SIZE:\n",
    "    run_episode(env, agent, rpm)\n",
    "\n",
    "max_episode = 2000\n",
    "\n",
    "logger.info(f'model_hidden_lay={model.hidden_layers}, LEARNING_RATE={LEARNING_RATE}, GAMMA={GAMMA}, MEMORY_SIZE={MEMORY_SIZE}, e_greed_decrement={e_greed_decrement}, \\\n",
    "e_greed={e_greed}, max_episode={max_episode}, LEARN_FREQ={LEARN_FREQ}, MEMORY_WARMUP_SIZE={MEMORY_WARMUP_SIZE}, BATCH_SIZE={BATCH_SIZE}')\n",
    "\n",
    "# 开始训练\n",
    "episode = 0\n",
    "train_score_list = []  # 记录所有分数\n",
    "test_score_list = []\n",
    "while episode < max_episode:  # 训练max_episode个回合，test部分不计算入episode数量\n",
    "    # train part\n",
    "    for i in range(0, 50):\n",
    "        total_reward = run_episode(env, agent, rpm)\n",
    "        episode += 1\n",
    "    train_score_list.append(total_reward)  # 每50轮记录一次训练分数\n",
    "\n",
    "    # test part\n",
    "    eval_reward = evaluate(env, agent, render=False)  # render=True 查看显示效果\n",
    "    test_score_list.append(eval_reward)    # 每50轮记录一次测试分数\n",
    "    logger.info('episode:{}    e_greed:{}   test_reward:{}'.format(\n",
    "        episode, agent.e_greed, eval_reward))\n",
    "\n",
    "# 训练结束，保存模型\n",
    "save_path = './dqn_model_3hidlayers.ckpt'\n",
    "agent.save(save_path)"
   ]
  },
  {
   "cell_type": "code",
   "execution_count": 25,
   "metadata": {
    "collapsed": false
   },
   "outputs": [
    {
     "data": {
      "image/png": "[encoded data removed]",
      "text/plain": [
       "<Figure size 432x288 with 1 Axes>"
      ]
     },
     "metadata": {},
     "output_type": "display_data"
    }
   ],
   "source": [
    "# 画出训练过程train和test reward历史曲线\n",
    "import matplotlib.pyplot as plt\n",
    "%matplotlib inline\n",
    "plt.plot(train_score_list, color='green', label='train')\n",
    "plt.plot(test_score_list, color='red', label='test')\n",
    "plt.title('Reward History')\n",
    "plt.legend()\n",
    "plt.show()"
   ]
  },
  {
   "cell_type": "code",
   "execution_count": 26,
   "metadata": {
    "collapsed": false
   },
   "outputs": [
    {
     "name": "stdout",
     "output_type": "stream",
     "text": [
      "\u001b[32m[06-18 20:42:01 MainThread @<ipython-input-26-c21ef8df243d>:22]\u001b[0m episode:2000    e_greed:0.06563359999901178   test_reward:-108.58\n"
     ]
    },
    {
     "data": {
      "image/png": "[encoded data removed]",
      "text/plain": [
       "<Figure size 432x288 with 1 Axes>"
      ]
     },
     "metadata": {},
     "output_type": "display_data"
    }
   ],
   "source": [
    "# final test \n",
    "# 评估 agent, 跑 100 个episode，总reward求平均\n",
    "def evaluate_final(env, agent, render=False, cnt_run=100):\n",
    "    eval_reward = []\n",
    "    for i in range(cnt_run):\n",
    "        obs = env.reset()\n",
    "        episode_reward = 0\n",
    "        while True:\n",
    "            action = agent.predict(obs)  # 预测动作，只选最优动作\n",
    "            obs, reward, done, _ = env.step(action)\n",
    "            episode_reward += reward\n",
    "            if render:\n",
    "                env.render()\n",
    "            if done:\n",
    "                break\n",
    "        eval_reward.append(episode_reward)\n",
    "    return eval_reward\n",
    "\n",
    "cnt_run = 100\n",
    "eval_reward = evaluate_final(env, agent, render=False, cnt_run=cnt_run)  # render=True 查看显示效果 \n",
    "logger.info('episode:{}    e_greed:{}   test_reward:{}'.format(\n",
    "    episode, agent.e_greed, np.mean(eval_reward)))\n",
    "\n",
    "plt.plot(eval_reward, color='red', label='eval_reward') \n",
    "plt.title(f'Evaluation Reward for {cnt_run} rounds, average={np.mean(eval_reward)}')\n",
    "plt.legend()\n",
    "plt.show()"
   ]
  },
  {
   "cell_type": "markdown",
   "metadata": {
    "collapsed": false
   },
   "source": [
    "# 小结\n",
    "主要研究了神经网络结构，学习率，GAMMA，MEMORY_SIZE和e_greed_decrement对结果的影响，主要结论如下：\n",
    "- MountainCar问题其实并不需要非常复杂的神经网络就可以求解，尝试了2个隐藏层[128, 128], [64, 64], [32, 64]和3个隐藏层[24, 48, 24]的网络都可以达到平均reward>-120；\n",
    "\t- 在我的训练设置下，**3个隐藏层[24, 48, 24]的网络的效果最好**\n",
    "- 尝试了GAMMA为0.9，0.99和0.995的情况，设置为0.995时训练时reward大于-200更早出现，考虑到这个问题相比CartPole更需要关注远期收益，因此设置**GAMMA=0.995**；\n",
    "- MEMORY_SIZE理论上讲是越大越好，尝试了20000和5000，感觉都够用；\n",
    "- e_greed_decrement衰减速度为1e-6时，在episode 1050之后e_greed就稳定在最小值0.01了，为了增加多样性，尝试了**e_greed_decrement=1e-7**，总体感觉比1e-6效果稍好些；\n",
    "- 学习率非常关键，较大的学习率前期效果明显，后期容易波动，较小的学习率需要非常长的训练时间才能见到效果：\n",
    "\t- 默认的0.001对于CartPole效果不错，但对于MountainCar而言，明显太小，2000个episode下来reward几乎全是-200；\n",
    "    - 尝试了0.0025和0.005，0.005更早收敛，但是后续波动也明显更大，所以最终选择了**LEARNING_RATE=0.0025**；\n",
    "\n",
    "> 由于每次实验需要20~30分钟，而AIStudio不能多开实验，所以主要是在本地机器进行实验，本笔记中展示了model_hidden_lay=[64, 64]和model_hidden_lay=[24, 48, 24]两种网络结构的结果；\n",
    "> 每次重新训练得到的结果还是有一定波动的，但载入模型继续训练则会出现reward先减小再降低达到相对稳定的效果，说明模型在4000个episode还是能基本收敛的.\n",
    "\n",
    "> 另外，本地机器的结果多数情况下优于AIStudio的结果，两者代码完全一致，软件层面区别是PaddlePaddle版本不一致，本地机器为1.8.2，AIStudio中安装了1.6.3，硬件层面区别不明。\n",
    "- 本地机器 model_hidden_lay=[24, 48, 24]的部分训练日志和训练完成后100次测试结果：\n",
    "```\n",
    "[06-19 01:01:29 MainThread @<ipython-input-8-bdf3b83db0db>:35] model_hidden_lay=[24, 48, 24], LEARNING_RATE=0.0025, GAMMA=0.995, MEMORY_SIZE=5000, e_greed_decrement=1e-07, e_greed=0.1, max_episode=2000, LEARN_FREQ=5, MEMORY_WARMUP_SIZE=200, BATCH_SIZE=32\n",
    "\n",
    "[06-19 01:24:00 MainThread @<ipython-input-8-bdf3b83db0db>:52] episode:1800    e_greed:0.07145399999917915   test_reward:-109.4\n",
    "[06-19 01:24:29 MainThread @<ipython-input-8-bdf3b83db0db>:52] episode:1850    e_greed:0.07084169999916154   test_reward:-113.4\n",
    "[06-19 01:24:56 MainThread @<ipython-input-8-bdf3b83db0db>:52] episode:1900    e_greed:0.0702594999991448   test_reward:-107.6\n",
    "[06-19 01:25:23 MainThread @<ipython-input-8-bdf3b83db0db>:52] episode:1950    e_greed:0.06969159999912847   test_reward:-107.8\n",
    "[06-19 01:25:50 MainThread @<ipython-input-8-bdf3b83db0db>:52] episode:2000    e_greed:0.06912539999911219   test_reward:-104.6\n",
    "```\n",
    "![](https://ai-studio-static-online.cdn.bcebos.com/cd173cd7c11348b881b9471598990cd376e7c9a4e2834fa091c1a58d10ffd880)\n"
   ]
  }
 ],
 "metadata": {
  "kernelspec": {
   "display_name": "PaddlePaddle 1.7.1 (Python 3.5)",
   "language": "python",
   "name": "py35-paddle1.2.0"
  },
  "language_info": {
   "codemirror_mode": {
    "name": "ipython",
    "version": 3
   },
   "file_extension": ".py",
   "mimetype": "text/x-python",
   "name": "python",
   "nbconvert_exporter": "python",
   "pygments_lexer": "ipython3",
   "version": "3.7.4"
  }
 },
 "nbformat": 4,
 "nbformat_minor": 1
}
